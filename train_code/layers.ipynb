{
 "cells": [
  {
   "cell_type": "code",
   "execution_count": 4,
   "id": "understanding-stand",
   "metadata": {},
   "outputs": [],
   "source": [
    "import numpy as np\n",
    "import torch as torch\n",
    "import torch.nn as nn"
   ]
  },
  {
   "cell_type": "code",
   "execution_count": 5,
   "id": "through-radio",
   "metadata": {},
   "outputs": [],
   "source": [
    "def adaptive_instance_norm( content_img , style_img , epsilon = 1e-5) :\n",
    "    content_var , content_mean = torch.var_mean( content_img , axes=[1, 2], keepdim = True)\n",
    "    style_var , style_mean = torch.var_mean( style_img , axes=[1, 2], keepdim = True)\n",
    "    conten_std , style_std = torch.sqrt(content_var+epsilon) , torch.sqrt(style_var+epsilon)\n",
    "    \n",
    "    return style_std * (content_img - content_mean) / ( conten_std + style_mean )"
   ]
  }
 ],
 "metadata": {
  "kernelspec": {
   "display_name": "Python 3",
   "language": "python",
   "name": "python3"
  },
  "language_info": {
   "codemirror_mode": {
    "name": "ipython",
    "version": 3
   },
   "file_extension": ".py",
   "mimetype": "text/x-python",
   "name": "python",
   "nbconvert_exporter": "python",
   "pygments_lexer": "ipython3",
   "version": "3.8.5"
  }
 },
 "nbformat": 4,
 "nbformat_minor": 5
}
