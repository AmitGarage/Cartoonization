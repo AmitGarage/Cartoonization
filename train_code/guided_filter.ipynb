{
 "cells": [
  {
   "cell_type": "code",
   "execution_count": 1,
   "id": "thermal-globe",
   "metadata": {},
   "outputs": [],
   "source": [
    "import torch\n",
    "import numpy as np"
   ]
  },
  {
   "cell_type": "code",
   "execution_count": 2,
   "id": "extraordinary-california",
   "metadata": {},
   "outputs": [],
   "source": [
    "def tf_box_filter(x, r):\n",
    "    ch = x.get_shape().as_list()[-1]\n",
    "    weight = 1/((2*r+1)**2)\n",
    "    #box_kernel = weight*np.ones((2*r+1, 2*r+1, ch, 1))\n",
    "    box_kernel = weight*np.ones((1, ch, 2*r+1, 2*r+1))\n",
    "    box_kernel = np.array(box_kernel).astype(np.float32)\n",
    "    #output = tf.nn.depthwise_conv2d(x, box_kernel, [1, 1, 1, 1], 'SAME')\n",
    "    conv = nn.Conv2d(x.shape[1],box_kernel.shape[0], kernel_size=[box_kernel.shape[2],box_kernel.shape[3]],padding=0, groups=x.shape[1])\n",
    "    with torch.no_grad():\n",
    "        conv.weight = nn.Parameter(torch.from_numpy(box_kernel))\n",
    "\n",
    "    output = conv(torch.from_numpy(x))\n",
    "    output.mean().backward()\n",
    "    #print(conv.weight.grad)\n",
    "    return output"
   ]
  },
  {
   "cell_type": "code",
   "execution_count": 3,
   "id": "broadband-healing",
   "metadata": {},
   "outputs": [],
   "source": [
    "def guided_filter(x, y, r, eps=1e-2):\n",
    "    \n",
    "    x_shape = x.shape()\n",
    "    #y_shape = tf.shape(y)\n",
    "\n",
    "    N = tf_box_filter(tf.ones((1, 1, x_shape[1], x_shape[2]), dtype=x.dtype), r)\n",
    "\n",
    "    mean_x = tf_box_filter(x, r) / N\n",
    "    mean_y = tf_box_filter(y, r) / N\n",
    "    cov_xy = tf_box_filter(x * y, r) / N - mean_x * mean_y\n",
    "    var_x  = tf_box_filter(x * x, r) / N - mean_x * mean_x\n",
    "\n",
    "    A = cov_xy / (var_x + eps)\n",
    "    b = mean_y - A * mean_x\n",
    "\n",
    "    mean_A = tf_box_filter(A, r) / N\n",
    "    mean_b = tf_box_filter(b, r) / N\n",
    "\n",
    "    output = mean_A * x + mean_b\n",
    "\n",
    "    return output"
   ]
  },
  {
   "cell_type": "code",
   "execution_count": null,
   "id": "expected-census",
   "metadata": {},
   "outputs": [],
   "source": []
  }
 ],
 "metadata": {
  "kernelspec": {
   "display_name": "Python 3",
   "language": "python",
   "name": "python3"
  },
  "language_info": {
   "codemirror_mode": {
    "name": "ipython",
    "version": 3
   },
   "file_extension": ".py",
   "mimetype": "text/x-python",
   "name": "python",
   "nbconvert_exporter": "python",
   "pygments_lexer": "ipython3",
   "version": "3.8.5"
  }
 },
 "nbformat": 4,
 "nbformat_minor": 5
}
