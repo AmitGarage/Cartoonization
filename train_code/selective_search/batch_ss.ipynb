{
 "cells": [
  {
   "cell_type": "code",
   "execution_count": 1,
   "id": "graphic-comment",
   "metadata": {},
   "outputs": [
    {
     "ename": "ModuleNotFoundError",
     "evalue": "No module named 'adaptive_color'",
     "output_type": "error",
     "traceback": [
      "\u001b[0;31m---------------------------------------------------------------------------\u001b[0m",
      "\u001b[0;31mModuleNotFoundError\u001b[0m                       Traceback (most recent call last)",
      "\u001b[0;32m<ipython-input-1-c938831eefa7>\u001b[0m in \u001b[0;36m<module>\u001b[0;34m\u001b[0m\n\u001b[1;32m      6\u001b[0m \u001b[0;34m\u001b[0m\u001b[0m\n\u001b[1;32m      7\u001b[0m \u001b[0;32mimport\u001b[0m \u001b[0mnumpy\u001b[0m \u001b[0;32mas\u001b[0m \u001b[0mnp\u001b[0m\u001b[0;34m\u001b[0m\u001b[0;34m\u001b[0m\u001b[0m\n\u001b[0;32m----> 8\u001b[0;31m \u001b[0;32mfrom\u001b[0m \u001b[0madaptive_color\u001b[0m \u001b[0;32mimport\u001b[0m \u001b[0mlabel2rgb\u001b[0m\u001b[0;34m\u001b[0m\u001b[0;34m\u001b[0m\u001b[0m\n\u001b[0m\u001b[1;32m      9\u001b[0m \u001b[0;32mfrom\u001b[0m \u001b[0mjoblib\u001b[0m \u001b[0;32mimport\u001b[0m \u001b[0mParallel\u001b[0m\u001b[0;34m,\u001b[0m \u001b[0mdelayed\u001b[0m\u001b[0;34m\u001b[0m\u001b[0;34m\u001b[0m\u001b[0m\n\u001b[1;32m     10\u001b[0m \u001b[0;32mfrom\u001b[0m \u001b[0mskimage\u001b[0m\u001b[0;34m.\u001b[0m\u001b[0msegmentation\u001b[0m \u001b[0;32mimport\u001b[0m \u001b[0mfelzenszwalb\u001b[0m\u001b[0;34m\u001b[0m\u001b[0;34m\u001b[0m\u001b[0m\n",
      "\u001b[0;31mModuleNotFoundError\u001b[0m: No module named 'adaptive_color'"
     ]
    }
   ],
   "source": [
    "'''\n",
    "CVPR 2020 submission, Paper ID 6791\n",
    "Source code for 'Learning to Cartoonize Using White-Box Cartoon Representations'\n",
    "'''\n",
    "\n",
    "\n",
    "import numpy as np\n",
    "from adaptive_color import label2rgb\n",
    "from joblib import Parallel, delayed\n",
    "from skimage.segmentation import felzenszwalb\n",
    "from util import switch_color_space\n",
    "from structure import HierarchicalGrouping"
   ]
  },
  {
   "cell_type": "code",
   "execution_count": 2,
   "id": "numeric-blame",
   "metadata": {},
   "outputs": [],
   "source": [
    "def color_ss_map(image, color_space='Lab', k=10, \n",
    "                 sim_strategy='CTSF', seg_num=200, power=1):\n",
    "    \n",
    "    img_seg = felzenszwalb(image, scale=k, sigma=0.8, min_size=100)\n",
    "    img_cvtcolor = label2rgb(img_seg, image, kind='mix')\n",
    "    img_cvtcolor = switch_color_space(img_cvtcolor, color_space)\n",
    "    S = HierarchicalGrouping(img_cvtcolor, img_seg, sim_strategy)\n",
    "    S.build_regions()\n",
    "    S.build_region_pairs()\n",
    "\n",
    "    # Start hierarchical grouping\n",
    "    \n",
    "    while S.num_regions() > seg_num:\n",
    "        \n",
    "        i,j = S.get_highest_similarity()\n",
    "        S.merge_region(i,j)\n",
    "        S.remove_similarities(i,j)\n",
    "        S.calculate_similarity_for_new_region()\n",
    "    \n",
    "    image = label2rgb(S.img_seg, image, kind='mix')\n",
    "    image = (image+1)/2\n",
    "    image = image**power\n",
    "    image = image/np.max(image)\n",
    "    image = image*2 - 1\n",
    "    \n",
    "    return image\n",
    "\n",
    "\n",
    "def selective_adacolor(batch_image, seg_num=200, power=1):\n",
    "    num_job = np.shape(batch_image)[0]\n",
    "    batch_out = Parallel(n_jobs=num_job)(delayed(color_ss_map)\\\n",
    "                         (image, seg_num, power) for image in batch_image)\n",
    "    return np.array(batch_out)\n",
    "\n",
    "\n",
    "if __name__ == '__main__':\n",
    "    pass"
   ]
  },
  {
   "cell_type": "code",
   "execution_count": null,
   "id": "green-highlight",
   "metadata": {},
   "outputs": [],
   "source": []
  }
 ],
 "metadata": {
  "kernelspec": {
   "display_name": "Python 3",
   "language": "python",
   "name": "python3"
  },
  "language_info": {
   "codemirror_mode": {
    "name": "ipython",
    "version": 3
   },
   "file_extension": ".py",
   "mimetype": "text/x-python",
   "name": "python",
   "nbconvert_exporter": "python",
   "pygments_lexer": "ipython3",
   "version": "3.8.5"
  }
 },
 "nbformat": 4,
 "nbformat_minor": 5
}
