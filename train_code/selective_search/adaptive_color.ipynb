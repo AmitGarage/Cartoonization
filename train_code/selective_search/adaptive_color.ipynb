{
 "cells": [
  {
   "cell_type": "code",
   "execution_count": 1,
   "id": "selected-pilot",
   "metadata": {},
   "outputs": [],
   "source": [
    "import numpy as np"
   ]
  },
  {
   "cell_type": "code",
   "execution_count": 2,
   "id": "agricultural-supplement",
   "metadata": {},
   "outputs": [],
   "source": [
    "def label2rgb(label_field, image, kind='avg', bg_label=-1, bg_color=(0, 0, 0)):\n",
    "\n",
    "    #std_list = list()\n",
    "    out = np.zeros_like(image)\n",
    "    labels = np.unique(label_field)\n",
    "    bg = (labels == bg_label)\n",
    "    if bg.any():\n",
    "        labels = labels[labels != bg_label]\n",
    "        mask = (label_field == bg_label).nonzero()\n",
    "        out[mask] = bg_color\n",
    "    for label in labels:\n",
    "        mask = (label_field == label).nonzero()\n",
    "        #std = np.std(image[mask])\n",
    "        #std_list.append(std)\n",
    "        if kind == 'avg':\n",
    "            color = image[mask].mean(axis=0)\n",
    "        elif kind == 'median':\n",
    "            color = np.median(image[mask], axis=0)\n",
    "        elif kind == 'mix':\n",
    "            std = np.std(image[mask])\n",
    "            if std < 20:\n",
    "                color = image[mask].mean(axis=0)\n",
    "            elif 20 < std < 40:\n",
    "                mean = image[mask].mean(axis=0)\n",
    "                median = np.median(image[mask], axis=0)\n",
    "                color = 0.5*mean + 0.5*median\n",
    "            elif 40 < std:\n",
    "                color = np.median(image[mask], axis=0)\n",
    "        out[mask] = color\n",
    "    return out"
   ]
  },
  {
   "cell_type": "code",
   "execution_count": null,
   "id": "committed-lover",
   "metadata": {},
   "outputs": [],
   "source": []
  }
 ],
 "metadata": {
  "kernelspec": {
   "display_name": "Python 3",
   "language": "python",
   "name": "python3"
  },
  "language_info": {
   "codemirror_mode": {
    "name": "ipython",
    "version": 3
   },
   "file_extension": ".py",
   "mimetype": "text/x-python",
   "name": "python",
   "nbconvert_exporter": "python",
   "pygments_lexer": "ipython3",
   "version": "3.8.5"
  }
 },
 "nbformat": 4,
 "nbformat_minor": 5
}
