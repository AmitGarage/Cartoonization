{
 "cells": [
  {
   "cell_type": "code",
   "execution_count": null,
   "id": "green-electric",
   "metadata": {
    "gradient": {
     "editing": false
    }
   },
   "outputs": [],
   "source": [
    "import torch.nn as nn\n",
    "from torch.nn.utils import spectral_norm\n",
    "import torch"
   ]
  },
  {
   "cell_type": "code",
   "execution_count": null,
   "id": "pretty-firewall",
   "metadata": {
    "gradient": {
     "editing": false
    }
   },
   "outputs": [],
   "source": [
    "class res_block(nn.Module) :\n",
    "    def __init__(self , in_channel, out_channel=32) :\n",
    "        super(res_block , self).__init__()\n",
    "        self.conv1 = nn.Conv2d(in_channel, out_channel, kernel_size = [3 ,3], padding=1 )\n",
    "        self.conv2 = nn.Conv2d(out_channel, out_channel, kernel_size = [3 ,3], padding=1 )\n",
    "        self.leaky_Relu = nn.LeakyReLU(inplace = True)\n",
    "        \n",
    "    def forward(self , input_x) :\n",
    "        x = self.conv1(self.leaky_Relu(self.conv1(input_x)))\n",
    "        return x + input_x"
   ]
  },
  {
   "cell_type": "code",
   "execution_count": null,
   "id": "billion-associate",
   "metadata": {
    "gradient": {
     "editing": false
    }
   },
   "outputs": [],
   "source": [
    "class generator(nn.Module) :\n",
    "    def __init__(self , channel=32, num_blocks=4 ) :\n",
    "        super(generator , self).__init__()\n",
    "        self.conv1 = nn.Conv2d(3, channel, kernel_size = [7 ,7], padding=3 )\n",
    "        self.conv2 = nn.Conv2d(channel, channel*2, kernel_size = [3 ,3], padding=1 , stride=2)\n",
    "        self.conv3 = nn.Conv2d(channel, channel*2, kernel_size = [3 ,3], padding=1 )\n",
    "        self.conv4 = nn.Conv2d(channel, channel*4, kernel_size = [3 ,3], padding=1 , stride=2)\n",
    "        self.conv5 = nn.Conv2d(channel, channel*4, kernel_size = [3 ,3], padding=1 )\n",
    "        \n",
    "        self.resblock = nn.Sequential(*[res_block(channel * 4, channel * 4) for i in range(num_blocks)])\n",
    "        \n",
    "        self.conv6 = nn.ConvTranspose2d(channel*4, channel*2, kernel_size = [3 ,3], padding=1 ,stride=2)\n",
    "        self.conv7 = nn.Conv2d(channel*2, channel*2, kernel_size = [3 ,3], padding=1 )\n",
    "        self.conv8 = nn.ConvTranspose2d(channel*2, channel, kernel_size = [3 ,3], padding=1 ,stride=2)\n",
    "        self.conv9 = nn.Conv2d(channel, channel, kernel_size = [3 ,3], padding=1 )\n",
    "        self.conv10 = nn.Conv2d(channel, 3, kernel_size = [7 ,7], padding=3 )\n",
    "        \n",
    "        self.leaky_Relu = nn.LeakyReLU(inplace = True)\n",
    "        \n",
    "    def forward(self , input_x):\n",
    "        x = self.leaky_Relu(self.conv1(input_x))\n",
    "        \n",
    "        x = self.conv2(x)\n",
    "        x = self.leaky_Relu(self.conv3(x))\n",
    "        \n",
    "        x = self.conv4(x)\n",
    "        x = self.leaky_Relu(self.conv5(x))\n",
    "        \n",
    "        x = self.resblock(x)\n",
    "        \n",
    "        x = self.conv6(x)\n",
    "        x = self.leaky_Relu(self.conv7(x))\n",
    "        \n",
    "        x = self.conv8(x)\n",
    "        x = self.leaky_Relu(self.conv9(x))\n",
    "        \n",
    "        x = self.conv10(x)\n",
    "        \n",
    "        return x"
   ]
  },
  {
   "cell_type": "code",
   "execution_count": null,
   "id": "intense-lottery",
   "metadata": {
    "gradient": {
     "editing": false
    }
   },
   "outputs": [],
   "source": [
    "class unet_generator(nn.Module) :\n",
    "    def __init__(self , channel=32, num_blocks=4 ) :\n",
    "        super(unet_generator , self).__init__()\n",
    "        self.conv1 = nn.Conv2d(3, channel, kernel_size = [7 ,7], padding=3 )\n",
    "        self.conv2 = nn.Conv2d(channel, channel*2, kernel_size = [3 ,3], padding=1 , stride=2)\n",
    "        self.conv3 = nn.Conv2d(channel, channel*2, kernel_size = [3 ,3], padding=1 )\n",
    "        self.conv4 = nn.Conv2d(channel, channel*4, kernel_size = [3 ,3], padding=1 , stride=2)\n",
    "        self.conv5 = nn.Conv2d(channel, channel*4, kernel_size = [3 ,3], padding=1 )\n",
    "        \n",
    "        self.resblock = nn.Sequential(*[res_block(channel * 4, channel * 4) for i in range(num_blocks)])\n",
    "        \n",
    "        self.conv6 = nn.Conv2d(channel*4, channel*2, kernel_size = [3 ,3], padding=1 )\n",
    "        self.conv7 = nn.Conv2d(channel*2, channel*2, kernel_size = [3 ,3], padding=1 )\n",
    "        self.conv8 = nn.Conv2d(channel*2, channel, kernel_size = [3 ,3], padding=1 )\n",
    "        self.conv9 = nn.Conv2d(channel, channel, kernel_size = [3 ,3], padding=1 )\n",
    "        self.conv10 = nn.Conv2d(channel, 3, kernel_size = [7 ,7], padding=3 )\n",
    "        \n",
    "        self.leaky_Relu = nn.LeakyReLU(inplace = True)\n",
    "        self.up_sampling = nn.UpsamplingBilinear2d(scale_factor=2)\n",
    "        #self.tanh_activation = nn.Tanh()\n",
    "        \n",
    "    def forward(self , input_x):\n",
    "        x_1 = self.leaky_Relu(self.conv1(input_x))\n",
    "        \n",
    "        x_2 = self.leaky_Relu(self.conv2(x_1))\n",
    "        x_2 = self.leaky_Relu(self.conv3(x_2))\n",
    "        \n",
    "        x_3 = self.leaky_Relu(self.conv4(x_2))\n",
    "        x_3 = self.leaky_Relu(self.conv5(x_3))\n",
    "        \n",
    "        x_4 = self.resblock(x_3)\n",
    "        x_4 = self.leaky_Relu(self.conv6(x_4))\n",
    "        \n",
    "        x_5 = self.up_sampling(x_4)\n",
    "        x_5 = self.leaky_Relu(self.conv7(x_5 + x_2))\n",
    "        x_5 = self.leaky_Relu(self.conv8(x_5))\n",
    "        \n",
    "        x_6 = self.up_sampling(x_5)\n",
    "        x_6 = self.leaky_Relu(self.conv9(x_6 + x_1))\n",
    "        x_6 = self.conv10(x_6)\n",
    "        \n",
    "        #self.tanh_activation(x_6)\n",
    "        return x_6"
   ]
  },
  {
   "cell_type": "code",
   "execution_count": null,
   "id": "apart-litigation",
   "metadata": {
    "gradient": {
     "editing": false
    }
   },
   "outputs": [],
   "source": [
    "class Discriminator_BatchNorm(nn.Module):\n",
    "    def __init__(self, channel=32, is_training=True, patch=True):\n",
    "        super(Discriminator_BatchNorm , self).__init__()\n",
    "        self.channel = channel\n",
    "        self.patch = patch\n",
    "        self.track_running_stats = is_training\n",
    "        in_channel = 3\n",
    "        layers = []\n",
    "        for idx in range(3) :\n",
    "            layers.extend([\n",
    "                nn.Con2d(in_channel,channel*(2**idx), kernel=[3,3], stride=2, padding=1),\n",
    "                nn.BatchNorm2d(track_running_stats=track_running_stats),\n",
    "                nn.LeakyReLU(inplace = True),\n",
    "                nn.Con2d(channel*(2**idx),channel*(2**idx), kernel=[3,3], padding=1),\n",
    "                nn.BatchNorm2d(track_running_stats=track_running_stats),\n",
    "                nn.LeakyReLU(inplace = True)\n",
    "            ])\n",
    "            \n",
    "            in_channel = channel*(2**idx)\n",
    "        \n",
    "        self.body = nn.Sequential(*layers)\n",
    "        if self.patch :\n",
    "            self.head = nn.Con2d(in_channel,1, kernel=[1,1], padding=0)\n",
    "        else :\n",
    "            self.head = nn.Sequential(torch.mean(dim=[1,2]), nn.Linear(in_channel,1))\n",
    "            \n",
    "    def forward(self , input_x):\n",
    "        x = self.body(input_x)\n",
    "        x = self.head(x)\n",
    "        \n",
    "        return x"
   ]
  },
  {
   "cell_type": "code",
   "execution_count": null,
   "id": "vietnamese-immigration",
   "metadata": {
    "gradient": {
     "editing": false
    }
   },
   "outputs": [],
   "source": [
    "class Discriminator_SpectralNorm(nn.Module):\n",
    "    def __init__(self, channel=32, patch=True):\n",
    "        super(Discriminator_SpectralNorm , self).__init__()\n",
    "        self.channel = channel\n",
    "        self.patch = patch\n",
    "        in_channel = 3\n",
    "        layers = []\n",
    "        for idx in range(3) :\n",
    "            layers.extend([\n",
    "                spectral_norm(nn.Con2d(in_channel,channel*(2**idx), kernel=[3,3], stride=2, padding=1)),\n",
    "                nn.LeakyReLU(inplace = True),\n",
    "                spectral_norm(nn.Con2d(channel*(2**idx),channel*(2**idx), kernel=[3,3], padding=1)),\n",
    "                nn.LeakyReLU(inplace = True)\n",
    "            ])\n",
    "            \n",
    "            in_channel = channel*(2**idx)\n",
    "        \n",
    "        self.body = nn.Sequential(*layers)\n",
    "        if self.patch :\n",
    "            self.head = spectral_norm(nn.Con2d(in_channel,1, kernel=[1,1], padding=0))\n",
    "        else :\n",
    "            self.head = nn.Sequential(torch.mean(dim=[1,2]), nn.Linear(in_channel,1))\n",
    "            \n",
    "    def forward(self , input_x):\n",
    "        x = self.body(input_x)\n",
    "        x = self.head(x)\n",
    "        \n",
    "        return x"
   ]
  },
  {
   "cell_type": "code",
   "execution_count": null,
   "id": "duplicate-consumer",
   "metadata": {
    "gradient": {
     "editing": false
    }
   },
   "outputs": [],
   "source": [
    "class Discriminator_LayerNorm(nn.Module):\n",
    "    def __init__(self, channel=32, patch=True):\n",
    "        super(Discriminator_LayerNorm , self).__init__()\n",
    "        self.channel = channel\n",
    "        self.patch = patch\n",
    "        in_channel = 3\n",
    "        layers = []\n",
    "        for idx in range(3) :\n",
    "            layers.extend([\n",
    "                nn.Con2d(in_channel,channel*(2**idx), kernel=[3,3], stride=2, padding=1),\n",
    "                nn.LayerNorm(),\n",
    "                nn.LeakyReLU(inplace = True),\n",
    "                nn.Con2d(channel*(2**idx),channel*(2**idx), kernel=[3,3], padding=1),\n",
    "                nn.LayerNorm(),\n",
    "                nn.LeakyReLU(inplace = True)\n",
    "            ])\n",
    "            \n",
    "            in_channel = channel*(2**idx)\n",
    "        \n",
    "        self.body = nn.Sequential(*layers)\n",
    "        if self.patch :\n",
    "            self.head = nn.Con2d(in_channel,1, kernel=[1,1], padding=0)\n",
    "        else :\n",
    "            self.head = nn.Sequential(torch.mean(dim=[1,2]), nn.Linear(in_channel,1))\n",
    "            \n",
    "    def forward(self , input_x):\n",
    "        x = self.body(input_x)\n",
    "        x = self.head(x)\n",
    "        \n",
    "        return x"
   ]
  },
  {
   "cell_type": "code",
   "execution_count": null,
   "id": "headed-client",
   "metadata": {
    "gradient": {
     "editing": false
    }
   },
   "outputs": [],
   "source": []
  }
 ],
 "metadata": {
  "kernelspec": {
   "display_name": "Python 3",
   "language": "python",
   "name": "python3"
  },
  "language_info": {
   "codemirror_mode": {
    "name": "ipython",
    "version": 3
   },
   "file_extension": ".py",
   "mimetype": "text/x-python",
   "name": "python",
   "nbconvert_exporter": "python",
   "pygments_lexer": "ipython3",
   "version": "3.8.5"
  }
 },
 "nbformat": 4,
 "nbformat_minor": 5
}
