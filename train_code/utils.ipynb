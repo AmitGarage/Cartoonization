{
 "cells": [
  {
   "cell_type": "code",
   "execution_count": 1,
   "id": "careful-livestock",
   "metadata": {},
   "outputs": [
    {
     "ename": "ModuleNotFoundError",
     "evalue": "No module named 'selective_search'",
     "output_type": "error",
     "traceback": [
      "\u001b[0;31m---------------------------------------------------------------------------\u001b[0m",
      "\u001b[0;31mModuleNotFoundError\u001b[0m                       Traceback (most recent call last)",
      "\u001b[0;32m<ipython-input-1-077562651cc5>\u001b[0m in \u001b[0;36m<module>\u001b[0;34m\u001b[0m\n\u001b[1;32m      2\u001b[0m \u001b[0;32mfrom\u001b[0m \u001b[0mskimage\u001b[0m \u001b[0;32mimport\u001b[0m \u001b[0msegmentation\u001b[0m\u001b[0;34m,\u001b[0m \u001b[0mcolor\u001b[0m\u001b[0;34m\u001b[0m\u001b[0;34m\u001b[0m\u001b[0m\n\u001b[1;32m      3\u001b[0m \u001b[0;32mfrom\u001b[0m \u001b[0mjoblib\u001b[0m \u001b[0;32mimport\u001b[0m \u001b[0mParallel\u001b[0m\u001b[0;34m,\u001b[0m \u001b[0mdelayed\u001b[0m\u001b[0;34m\u001b[0m\u001b[0;34m\u001b[0m\u001b[0m\n\u001b[0;32m----> 4\u001b[0;31m \u001b[0;32mfrom\u001b[0m \u001b[0mselective_search\u001b[0m\u001b[0;34m.\u001b[0m\u001b[0mutil\u001b[0m \u001b[0;32mimport\u001b[0m \u001b[0mswitch_color_space\u001b[0m\u001b[0;34m\u001b[0m\u001b[0;34m\u001b[0m\u001b[0m\n\u001b[0m\u001b[1;32m      5\u001b[0m \u001b[0;32mfrom\u001b[0m \u001b[0mselective_search\u001b[0m\u001b[0;34m.\u001b[0m\u001b[0mstructure\u001b[0m \u001b[0;32mimport\u001b[0m \u001b[0mHierarchicalGrouping\u001b[0m\u001b[0;34m\u001b[0m\u001b[0;34m\u001b[0m\u001b[0m\n\u001b[1;32m      6\u001b[0m \u001b[0;34m\u001b[0m\u001b[0m\n",
      "\u001b[0;31mModuleNotFoundError\u001b[0m: No module named 'selective_search'"
     ]
    }
   ],
   "source": [
    "from scipy.ndimage import filters\n",
    "from skimage import segmentation, color\n",
    "from joblib import Parallel, delayed\n",
    "from selective_search.util import switch_color_space\n",
    "from selective_search.structure import HierarchicalGrouping\n",
    "\n",
    "import os\n",
    "import cv2\n",
    "import numpy as np\n",
    "import scipy.stats as st\n",
    "import torch"
   ]
  },
  {
   "cell_type": "code",
   "execution_count": 2,
   "id": "exempt-cursor",
   "metadata": {},
   "outputs": [],
   "source": [
    "def color_shift(image1, image2, mode='uniform'):\n",
    "    b1, g1, r1 = torch.split(image1, split_size_or_sections=3, dim=3)\n",
    "    b2, g2, r2 = torch.split(image2, split_size_or_sections=3, dim=3)\n",
    "    if mode == 'normal':\n",
    "        b_weight = torch.normal(size=[1], mean=0.114, std=0.1)\n",
    "        g_weight = torch.normal(size=[1], mean=0.587, std=0.1)\n",
    "        r_weight = torch.normal(size=[1], mean=0.299, std=0.1)\n",
    "    elif mode == 'uniform':\n",
    "        b_weight = (torch.rand(1)*(0.214-0.014))+0.014\n",
    "        g_weight = (torch.rand(1)*(0.687-0.487))+0.487\n",
    "        r_weight = (torch.rand(1)*(0.399-0.199))+0.199\n",
    "    output1 = (b_weight*b1+g_weight*g1+r_weight*r1)/(b_weight+g_weight+r_weight)\n",
    "    output2 = (b_weight*b2+g_weight*g2+r_weight*r2)/(b_weight+g_weight+r_weight)\n",
    "    return output1, output2"
   ]
  },
  {
   "cell_type": "code",
   "execution_count": 3,
   "id": "pregnant-association",
   "metadata": {},
   "outputs": [],
   "source": [
    "def label2rgb(label_field, image, kind='mix', bg_label=-1, bg_color=(0, 0, 0)):\n",
    "\n",
    "    #std_list = list()\n",
    "    out = np.zeros_like(image)\n",
    "    labels = np.unique(label_field)\n",
    "    bg = (labels == bg_label)\n",
    "    if bg.any():\n",
    "        labels = labels[labels != bg_label]\n",
    "        mask = (label_field == bg_label).nonzero()\n",
    "        out[mask] = bg_color\n",
    "    for label in labels:\n",
    "        mask = (label_field == label).nonzero()\n",
    "        #std = np.std(image[mask])\n",
    "        #std_list.append(std)\n",
    "        if kind == 'avg':\n",
    "            color = image[mask].mean(axis=0)\n",
    "        elif kind == 'median':\n",
    "            color = np.median(image[mask], axis=0)\n",
    "        elif kind == 'mix':\n",
    "            std = np.std(image[mask])\n",
    "            if std < 20:\n",
    "                color = image[mask].mean(axis=0)\n",
    "            elif 20 < std < 40:\n",
    "                mean = image[mask].mean(axis=0)\n",
    "                median = np.median(image[mask], axis=0)\n",
    "                color = 0.5*mean + 0.5*median\n",
    "            elif 40 < std:\n",
    "                color = image[mask].median(axis=0)\n",
    "        out[mask] = color\n",
    "    return out"
   ]
  },
  {
   "cell_type": "code",
   "execution_count": 4,
   "id": "welcome-detector",
   "metadata": {},
   "outputs": [],
   "source": [
    "def color_ss_map(image, seg_num=200, power=1, \n",
    "                 color_space='Lab', k=10, sim_strategy='CTSF'):\n",
    "    \n",
    "    img_seg = segmentation.felzenszwalb(image, scale=k, sigma=0.8, min_size=100)\n",
    "    img_cvtcolor = label2rgb(img_seg, image, kind='mix')\n",
    "    img_cvtcolor = switch_color_space(img_cvtcolor, color_space)\n",
    "    S = HierarchicalGrouping(img_cvtcolor, img_seg, sim_strategy)\n",
    "    S.build_regions()\n",
    "    S.build_region_pairs()\n",
    "\n",
    "    # Start hierarchical grouping\n",
    "    \n",
    "    while S.num_regions() > seg_num:\n",
    "        \n",
    "        i,j = S.get_highest_similarity()\n",
    "        S.merge_region(i,j)\n",
    "        S.remove_similarities(i,j)\n",
    "        S.calculate_similarity_for_new_region()\n",
    "    \n",
    "    image = label2rgb(S.img_seg, image, kind='mix')\n",
    "    image = (image+1)/2\n",
    "    image = image**power\n",
    "    image = image/np.max(image)\n",
    "    image = image*2 - 1\n",
    "    \n",
    "    return image"
   ]
  },
  {
   "cell_type": "code",
   "execution_count": 5,
   "id": "cathedral-jason",
   "metadata": {},
   "outputs": [],
   "source": [
    "def selective_adacolor(batch_image, seg_num=200, power=1):\n",
    "    num_job = np.shape(batch_image)[0]\n",
    "    batch_out = Parallel(n_jobs=num_job)(delayed(color_ss_map)\\(image, seg_num, power) for image in batch_image)\n",
    "    return np.array(batch_out)"
   ]
  },
  {
   "cell_type": "code",
   "execution_count": 6,
   "id": "infectious-hydrogen",
   "metadata": {},
   "outputs": [],
   "source": [
    "def simple_superpixel(batch_image, seg_num=200):\n",
    "    \n",
    "    def process_slic(image):\n",
    "        seg_label = segmentation.slic(image, n_segments=seg_num, sigma=1,compactness=10, convert2lab=True)\n",
    "        image = color.label2rgb(seg_label, image, kind='mix')\n",
    "        return image\n",
    "    \n",
    "    num_job = np.shape(batch_image)[0]\n",
    "    batch_out = Parallel(n_jobs=num_job)(delayed(process_slic)\\(image) for image in batch_image)\n",
    "    return np.array(batch_out)"
   ]
  },
  {
   "cell_type": "code",
   "execution_count": 7,
   "id": "loaded-chocolate",
   "metadata": {},
   "outputs": [],
   "source": [
    "def load_image_list(data_dir):\n",
    "    name_list = list()\n",
    "    for name in os.listdir(data_dir):\n",
    "        name_list.append(os.path.join(data_dir, name))\n",
    "    name_list.sort()\n",
    "    return name_list"
   ]
  },
  {
   "cell_type": "code",
   "execution_count": 8,
   "id": "attached-passenger",
   "metadata": {},
   "outputs": [],
   "source": [
    "def next_batch(filename_list, batch_size):\n",
    "    idx = np.arange(0 , len(filename_list))\n",
    "    np.random.shuffle(idx)\n",
    "    idx = idx[:batch_size]\n",
    "    batch_data = []\n",
    "    for i in range(batch_size):\n",
    "        image = cv2.imread(filename_list[idx[i]])\n",
    "        image = image.astype(np.float32)/127.5 - 1\n",
    "        #image = image.astype(np.float32)/255.0\n",
    "        batch_data.append(image)\n",
    "            \n",
    "    return np.asarray(batch_data)"
   ]
  },
  {
   "cell_type": "code",
   "execution_count": 9,
   "id": "compact-broad",
   "metadata": {},
   "outputs": [],
   "source": [
    "def write_batch_image(image, save_dir, name, n):\n",
    "    \n",
    "    if not os.path.exists(save_dir):\n",
    "        os.makedirs(save_dir)\n",
    "    \n",
    "    fused_dir = os.path.join(save_dir, name)\n",
    "    fused_image = [0] * n\n",
    "    for i in range(n):\n",
    "        fused_image[i] = []\n",
    "        for j in range(n):\n",
    "            k = i * n + j\n",
    "            image[k] = (image[k]+1) * 127.5\n",
    "            #image[k] = image[k] - np.min(image[k])\n",
    "            #image[k] = image[k]/np.max(image[k])\n",
    "            #image[k] = image[k] * 255.0\n",
    "            fused_image[i].append(image[k])\n",
    "        fused_image[i] = np.hstack(fused_image[i])\n",
    "    fused_image = np.vstack(fused_image)\n",
    "    cv2.imwrite(fused_dir, fused_image.astype(np.uint8))"
   ]
  },
  {
   "cell_type": "code",
   "execution_count": 10,
   "id": "precise-operation",
   "metadata": {},
   "outputs": [],
   "source": [
    "if __name__ == '__main__':\n",
    "    pass"
   ]
  },
  {
   "cell_type": "code",
   "execution_count": null,
   "id": "built-contractor",
   "metadata": {},
   "outputs": [],
   "source": []
  }
 ],
 "metadata": {
  "kernelspec": {
   "display_name": "Python 3",
   "language": "python",
   "name": "python3"
  },
  "language_info": {
   "codemirror_mode": {
    "name": "ipython",
    "version": 3
   },
   "file_extension": ".py",
   "mimetype": "text/x-python",
   "name": "python",
   "nbconvert_exporter": "python",
   "pygments_lexer": "ipython3",
   "version": "3.8.5"
  }
 },
 "nbformat": 4,
 "nbformat_minor": 5
}
