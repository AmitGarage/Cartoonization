{
 "cells": [
  {
   "cell_type": "code",
   "execution_count": 2,
   "id": "respiratory-pattern",
   "metadata": {},
   "outputs": [],
   "source": [
    "import torch\n",
    "import numpy as np"
   ]
  },
  {
   "cell_type": "code",
   "execution_count": 3,
   "id": "taken-compensation",
   "metadata": {},
   "outputs": [],
   "source": [
    "class res_block(nn.Module) :\n",
    "    def __init__(self , in_channel, out_channel=32) :\n",
    "        super(res_block , self).__init__()\n",
    "        self.conv1 = nn.Conv2d(in_channel, out_channel, kernel_size = [3 ,3], padding=1 )\n",
    "        self.conv2 = nn.Conv2d(out_channel, out_channel, kernel_size = [3 ,3], padding=1 )\n",
    "        self.leaky_Relu = nn.LeakyReLU(inplace = True)\n",
    "        \n",
    "    def forward(self , input_x) :\n",
    "        x = self.conv1(self.leaky_Relu(self.conv1(input_x)))\n",
    "        return x + input_x"
   ]
  },
  {
   "cell_type": "code",
   "execution_count": 4,
   "id": "featured-examination",
   "metadata": {},
   "outputs": [],
   "source": [
    "class unet_generator(nn.Module) :\n",
    "    def __init__(self , channel=32, num_blocks=4 ) :\n",
    "        super(unet_generator , self).__init__()\n",
    "        self.conv1 = nn.Conv2d(3, channel, kernel_size = [7 ,7], padding=3 )\n",
    "        self.conv2 = nn.Conv2d(channel, channel*2, kernel_size = [3 ,3], padding=1 , stride=2)\n",
    "        self.conv3 = nn.Conv2d(channel, channel*2, kernel_size = [3 ,3], padding=1 )\n",
    "        self.conv4 = nn.Conv2d(channel, channel*4, kernel_size = [3 ,3], padding=1 , stride=2)\n",
    "        self.conv5 = nn.Conv2d(channel, channel*4, kernel_size = [3 ,3], padding=1 )\n",
    "        \n",
    "        self.resblock = nn.Sequential(*[res_block(channel * 4, channel * 4) for i in range(num_blocks)])\n",
    "        \n",
    "        self.conv6 = nn.Conv2d(channel*4, channel*2, kernel_size = [3 ,3], padding=1 )\n",
    "        self.conv7 = nn.Conv2d(channel*2, channel*2, kernel_size = [3 ,3], padding=1 )\n",
    "        self.conv8 = nn.Conv2d(channel*2, channel, kernel_size = [3 ,3], padding=1 )\n",
    "        self.conv9 = nn.Conv2d(channel, channel, kernel_size = [3 ,3], padding=1 )\n",
    "        self.conv10 = nn.Conv2d(channel, 3, kernel_size = [7 ,7], padding=3 )\n",
    "        \n",
    "        self.leaky_Relu = nn.LeakyReLU(inplace = True)\n",
    "        self.up_sampling = nn.UpsamplingBilinear2d(scale_factor=2)\n",
    "        #self.tanh_activation = nn.Tanh()\n",
    "        \n",
    "    def forward(self , input_x):\n",
    "        x_1 = self.leaky_Relu(self.conv1(input_x))\n",
    "        \n",
    "        x_2 = self.leaky_Relu(self.conv2(x_1))\n",
    "        x_2 = self.leaky_Relu(self.conv3(x_2))\n",
    "        \n",
    "        x_3 = self.leaky_Relu(self.conv4(x_2))\n",
    "        x_3 = self.leaky_Relu(self.conv5(x_3))\n",
    "        \n",
    "        x_4 = self.resblock(x_3)\n",
    "        x_4 = self.leaky_Relu(self.conv6(x_4))\n",
    "        \n",
    "        x_5 = self.up_sampling(x_4)\n",
    "        x_5 = self.leaky_Relu(self.conv7(x_5 + x_2))\n",
    "        x_5 = self.leaky_Relu(self.conv8(x_5))\n",
    "        \n",
    "        x_6 = self.up_sampling(x_5)\n",
    "        x_6 = self.leaky_Relu(self.conv9(x_6 + x_1))\n",
    "        x_6 = self.conv10(x_6)\n",
    "        \n",
    "        #self.tanh_activation(x_6)\n",
    "        return x_6"
   ]
  },
  {
   "cell_type": "code",
   "execution_count": 5,
   "id": "neutral-console",
   "metadata": {},
   "outputs": [],
   "source": [
    "if __name__ == '__main__':\n",
    "    pass"
   ]
  },
  {
   "cell_type": "code",
   "execution_count": null,
   "id": "acute-identity",
   "metadata": {},
   "outputs": [],
   "source": []
  }
 ],
 "metadata": {
  "kernelspec": {
   "display_name": "Python 3",
   "language": "python",
   "name": "python3"
  },
  "language_info": {
   "codemirror_mode": {
    "name": "ipython",
    "version": 3
   },
   "file_extension": ".py",
   "mimetype": "text/x-python",
   "name": "python",
   "nbconvert_exporter": "python",
   "pygments_lexer": "ipython3",
   "version": "3.8.5"
  }
 },
 "nbformat": 4,
 "nbformat_minor": 5
}
